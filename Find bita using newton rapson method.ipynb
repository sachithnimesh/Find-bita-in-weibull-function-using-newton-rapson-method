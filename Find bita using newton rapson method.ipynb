{
 "cells": [
  {
   "cell_type": "code",
   "execution_count": 2,
   "id": "42686419",
   "metadata": {},
   "outputs": [],
   "source": [
    "import math\n",
    "\n"
   ]
  },
  {
   "cell_type": "code",
   "execution_count": 4,
   "id": "f7eaf074",
   "metadata": {},
   "outputs": [],
   "source": [
    "def g(b, x):\n",
    "    n = len(x)\n",
    "    sum1 = sum([math.pow(i, b) * math.log(i) for i in x])\n",
    "    sum2 = sum([math.pow(i, b) for i in x])\n",
    "    sum3 = sum([math.log(i) for i in x])\n",
    "    return (sum1 / sum2) - (1 / b) - (sum3 / n)\n",
    "\n"
   ]
  },
  {
   "cell_type": "code",
   "execution_count": 6,
   "id": "a341dc96",
   "metadata": {},
   "outputs": [],
   "source": [
    "def dg(b, x):\n",
    "    n = len(x)\n",
    "    sum1 = sum([math.pow(i, b) * math.log(i) * math.log(i) for i in x])\n",
    "    sum2 = sum([math.pow(i, b) * math.log(i) for i in x])\n",
    "    sum3 = sum([math.pow(i, b) for i in x])\n",
    "    return (sum1 / sum2) - (1 / (b*b)) - (sum2 / sum3)\n",
    "\n"
   ]
  },
  {
   "cell_type": "code",
   "execution_count": 7,
   "id": "a7a0bd2b",
   "metadata": {},
   "outputs": [],
   "source": [
    "def newton_raphson(x, n, initial_guess, tolerance=1e-6, max_iterations=100):\n",
    "    b = initial_guess\n",
    "\n",
    "    for _ in range(max_iterations):\n",
    "        f = g(b, x)\n",
    "        df = dg(b, x)\n",
    "        delta = f / df\n",
    "        b -= delta\n",
    "\n",
    "        if abs(delta) < tolerance:\n",
    "            return b\n",
    "\n",
    "    return None\n"
   ]
  },
  {
   "cell_type": "code",
   "execution_count": null,
   "id": "d4fe8c09",
   "metadata": {},
   "outputs": [],
   "source": [
    "\n",
    "# Example usage\n",
    "x = [1, 2, 3, 4, 5]  # Sample array of x axis values\n",
    "n = len(x)  # Number of elements in the array\n",
    "initial_guess = 1  # Initial guess for b\n",
    "\n",
    "b = newton_raphson(x, n, initial_guess)\n",
    "print(\"The value of b is:\", b)\n"
   ]
  }
 ],
 "metadata": {
  "kernelspec": {
   "display_name": "Python 3 (ipykernel)",
   "language": "python",
   "name": "python3"
  },
  "language_info": {
   "codemirror_mode": {
    "name": "ipython",
    "version": 3
   },
   "file_extension": ".py",
   "mimetype": "text/x-python",
   "name": "python",
   "nbconvert_exporter": "python",
   "pygments_lexer": "ipython3",
   "version": "3.9.13"
  }
 },
 "nbformat": 4,
 "nbformat_minor": 5
}
